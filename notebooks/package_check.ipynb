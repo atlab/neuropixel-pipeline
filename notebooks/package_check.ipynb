{
 "cells": [
  {
   "cell_type": "code",
   "execution_count": null,
   "metadata": {},
   "outputs": [],
   "source": [
    "import neuropixel_pipeline"
   ]
  },
  {
   "cell_type": "code",
   "execution_count": null,
   "metadata": {},
   "outputs": [],
   "source": [
    "import kilosort\n",
    "from kilosort_runner import cli, __version__\n",
    "print(__version__)\n",
    "params = cli.parse_args(['{\"data_dir\": \"/\"}']).params\n",
    "print(params)"
   ]
  }
 ],
 "metadata": {
  "language_info": {
   "name": "python"
  },
  "orig_nbformat": 4
 },
 "nbformat": 4,
 "nbformat_minor": 2
}
