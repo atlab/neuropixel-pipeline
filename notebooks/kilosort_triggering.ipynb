{
 "cells": [
  {
   "attachments": {},
   "cell_type": "markdown",
   "metadata": {},
   "source": [
    "# Kilosort Triggering"
   ]
  },
  {
   "attachments": {},
   "cell_type": "markdown",
   "metadata": {},
   "source": [
    "## Locally"
   ]
  },
  {
   "cell_type": "code",
   "execution_count": null,
   "metadata": {
    "vscode": {
     "languageId": "python"
    }
   },
   "outputs": [],
   "source": [
    "from kilosort_runner.run import KilosortParams\n",
    "from pathlib import Path\n",
    "\n",
    "data_dir = Path(\"\")\n",
    "kilosort_output_dir = Path(\"\")\n",
    "\n",
    "params = KilosortParams(data_dir=data_dir, results_dir=kilosort_output_dir)\n",
    "params.run_kilosort()"
   ]
  },
  {
   "attachments": {},
   "cell_type": "markdown",
   "metadata": {},
   "source": [
    "## REST Request\n",
    "\n",
    "TODO"
   ]
  },
  {
   "cell_type": "code",
   "execution_count": null,
   "metadata": {
    "vscode": {
     "languageId": "python"
    }
   },
   "outputs": [],
   "source": []
  }
 ],
 "metadata": {
  "kernelspec": {
   "display_name": "Python3 (kilosort)",
   "language": "python",
   "name": "kilosort"
  },
  "orig_nbformat": 4
 },
 "nbformat": 4,
 "nbformat_minor": 2
}
