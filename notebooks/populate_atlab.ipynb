{
 "cells": [
  {
   "cell_type": "code",
   "execution_count": null,
   "metadata": {},
   "outputs": [],
   "source": [
    "from neuropixel_pipeline.modules import atlab\n",
    "import neuropixel_pipeline.modules.atlab.__main__"
   ]
  },
  {
   "cell_type": "code",
   "execution_count": null,
   "metadata": {},
   "outputs": [],
   "source": [
    "scan_key = {\"animal_id\": 29187, \"session\": 8, \"scan_idx\": 1}\n",
    "\n",
    "pipeline_input = dict(\n",
    "    mode=\"no curation\",\n",
    "    scan_key=scan_key,\n",
    "    base_dir=\"/mnt/scratch09/Ephys\",\n",
    "    insertion_number=1,\n",
    "    clustering_task_mode=\"trigger\",\n",
    ")\n",
    "\n",
    "atlab.__main__.main(pipeline_input)"
   ]
  }
 ],
 "metadata": {
  "language_info": {
   "name": "python"
  },
  "orig_nbformat": 4
 },
 "nbformat": 4,
 "nbformat_minor": 2
}
