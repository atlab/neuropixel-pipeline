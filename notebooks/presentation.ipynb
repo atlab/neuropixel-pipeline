{
 "cells": [
  {
   "cell_type": "code",
   "execution_count": 2,
   "metadata": {},
   "outputs": [],
   "source": [
    "import neuropixel_pipeline as npxl"
   ]
  },
  {
   "cell_type": "code",
   "execution_count": null,
   "metadata": {},
   "outputs": [],
   "source": [
    "from neuropixel_pipeline.schemata import ephys\n",
    "from neuropixel_pipeline.api import metadata\n",
    "\n",
    "ephys.Populate(ephys.PreClusteringData({...})).run()\n",
    "\n",
    "# or\n",
    "\n",
    "ephys.Populate(dict(mode='preclustering', data={...})).run()"
   ]
  },
  {
   "cell_type": "code",
   "execution_count": null,
   "metadata": {},
   "outputs": [],
   "source": [
    "from neuropixel_pipeline.schemata import ephys\n",
    "from neuropixel_pipeline.readers import adapters\n",
    "\n",
    "data_filepath = (ephys.LFP.Electrode & {...}).fetch1('lfp')\n",
    "lfp = adapters.loaders['lfp'].load(data_filepath)"
   ]
  }
 ],
 "metadata": {
  "kernelspec": {
   "display_name": "Python 3",
   "language": "python",
   "name": "python3"
  },
  "language_info": {
   "codemirror_mode": {
    "name": "ipython",
    "version": 3
   },
   "file_extension": ".py",
   "mimetype": "text/x-python",
   "name": "python",
   "nbconvert_exporter": "python",
   "pygments_lexer": "ipython3",
   "version": "3.8.10"
  },
  "orig_nbformat": 4
 },
 "nbformat": 4,
 "nbformat_minor": 2
}
