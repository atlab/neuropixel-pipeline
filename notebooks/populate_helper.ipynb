{
 "cells": [
  {
   "cell_type": "code",
   "execution_count": null,
   "metadata": {},
   "outputs": [],
   "source": [
    "# %cd ..\n",
    "\n",
    "# %load_ext autoreload\n",
    "\n",
    "# %autoreload 2\n",
    "\n",
    "# import datajoint as dj\n",
    "\n",
    "# dj.config[\"database.host\"] = \"at-database.ad.bcm.edu\""
   ]
  },
  {
   "cell_type": "code",
   "execution_count": null,
   "metadata": {},
   "outputs": [],
   "source": [
    "from neuropixel_pipeline import schemata\n",
    "from neuropixel_pipeline.schemata import probe, ephys\n",
    "\n",
    "from pathlib import Path"
   ]
  },
  {
   "cell_type": "code",
   "execution_count": null,
   "metadata": {},
   "outputs": [],
   "source": [
    "# The probe setup should be doable from the meta file, but unfortunately it doesn't directly state what the probe_type is in the h5 attributes section.\n",
    "schemata.PopulateHelper.Setup(\n",
    "    probes=[\n",
    "        dict(\n",
    "            probe=\"19398116102\",\n",
    "            probe_type=\"neuropixels 1.0 - 3B\",\n",
    "            probe_comment=\"Used in maria's recordings\",\n",
    "        )\n",
    "    ],\n",
    "    skip_duplicates=True,\n",
    ").run()\n",
    "\n",
    "probe.Probe()"
   ]
  },
  {
   "cell_type": "code",
   "execution_count": null,
   "metadata": {},
   "outputs": [],
   "source": [
    "session_key = {\"animal_id\": 29187, \"session\": 18, \"scan_idx\": 1}\n",
    "session_dir = Path(\"/mnt/scratch09/Ephys/Mouse/2023-05-16_10-22-55/2023-05-16_10-27-01\")\n",
    "\n",
    "insertion_key = schemata.PopulateHelper.PreClustering(\n",
    "    session_key=session_key,\n",
    "    insertion_number=0,\n",
    "    session_dir=session_dir,\n",
    "    acq_software=\"LabviewV1\",\n",
    "    insertion_location=None,\n",
    "    skip_duplicates=True,\n",
    ").run()\n",
    "print(insertion_key)\n",
    "ephys.EphysRecording()"
   ]
  },
  {
   "cell_type": "code",
   "execution_count": null,
   "metadata": {},
   "outputs": [],
   "source": [
    "clustering_helper = schemata.PopulateHelper.Clustering(\n",
    "    insertion_key=insertion_key,\n",
    "    session_dir=session_dir,\n",
    "    paramset_idx=1,  # from default params\n",
    "    task_mode=\"load\",\n",
    ")\n",
    "clustering_helper.run_clustering()\n",
    "ephys.Clustering()"
   ]
  },
  {
   "cell_type": "code",
   "execution_count": null,
   "metadata": {
    "collapsed": true,
    "jupyter": {
     "outputs_hidden": true
    },
    "tags": []
   },
   "outputs": [],
   "source": [
    "clustering_helper.run_curation(\n",
    "    curation_input=dict(\n",
    "        curation_id=0,\n",
    "        quality_control=False,\n",
    "        curation=\"no curation\",\n",
    "        curation_note=\"notes on the curation\",\n",
    "    )\n",
    ")\n",
    "ephys.CuratedClustering()"
   ]
  },
  {
   "cell_type": "code",
   "execution_count": null,
   "metadata": {},
   "outputs": [],
   "source": [
    "ephys.CuratedClustering.Unit()"
   ]
  },
  {
   "cell_type": "code",
   "execution_count": null,
   "metadata": {},
   "outputs": [],
   "source": []
  }
 ],
 "metadata": {
  "kernelspec": {
   "display_name": "Python3 (kilosort)",
   "language": "python",
   "name": "kilosort"
  }
 },
 "nbformat": 4,
 "nbformat_minor": 4
}
