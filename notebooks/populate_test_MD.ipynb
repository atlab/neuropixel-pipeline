{
 "cells": [
  {
   "cell_type": "code",
   "execution_count": null,
   "metadata": {},
   "outputs": [],
   "source": [
    "import datajoint as dj\n",
    "\n",
    "dj.config[\"database.host\"] = \"at-database.ad.bcm.edu\"\n",
    "\n",
    "from neuropixel_pipeline.readers.labview import LabviewNeuropixelMeta\n",
    "from neuropixel_pipeline.schemata import probe, ephys\n",
    "from neuropixel_pipeline.helpers import atlab\n",
    "\n",
    "from pathlib import Path"
   ]
  },
  {
   "cell_type": "markdown",
   "metadata": {},
   "source": [
    "## Probe"
   ]
  },
  {
   "cell_type": "code",
   "execution_count": null,
   "metadata": {},
   "outputs": [],
   "source": [
    "probe.ProbeType.fill_neuropixel_probes()\n",
    "atlab.probe_setup() # atlab specific step\n",
    "probe.ProbeType()"
   ]
  },
  {
   "cell_type": "code",
   "execution_count": null,
   "metadata": {},
   "outputs": [],
   "source": [
    "probe.Probe()"
   ]
  },
  {
   "cell_type": "markdown",
   "metadata": {},
   "source": [
    "# PreClustering"
   ]
  },
  {
   "cell_type": "code",
   "execution_count": null,
   "metadata": {},
   "outputs": [],
   "source": [
    "# Uses contents only, lookup table\n",
    "ephys.AcquisitionSoftware()"
   ]
  },
  {
   "cell_type": "code",
   "execution_count": null,
   "metadata": {},
   "outputs": [],
   "source": [
    "# session_meta = {\"animal_id\": 29187, \"session\": 18, \"scan_idx\": 1}\n",
    "session_meta = {\"animal_id\": 29187, \"session\": 8, \"scan_idx\": 1}\n",
    "\n",
    "experiment = dj.create_virtual_module(\"experiment\", \"pipeline_experiment\")\n",
    "\n",
    "session_rel = experiment.Session() & session_meta\n",
    "experiment_rig = session_rel.fetch1('rig')\n",
    "\n",
    "session_meta['rig'] = experiment_rig\n",
    "ephys.Session.add_session(session_meta, error_on_duplicate=False)\n",
    "ephys.Session()"
   ]
  },
  {
   "cell_type": "code",
   "execution_count": null,
   "metadata": {},
   "outputs": [],
   "source": [
    "session_path = Path(\"/mnt/scratch09/Ephys/Mouse/2023-05-16_10-22-55/2023-05-16_10-27-01\")\n",
    "INSERTION_NUMBER = 0\n",
    "\n",
    "labview_metadata = LabviewNeuropixelMeta.from_h5(session_path)\n",
    "\n",
    "session_id = (ephys.Session & session_meta).fetch1('session_id')\n",
    "insertion_key = dict(session_id=session_id, insertion_number=INSERTION_NUMBER)\n",
    "\n",
    "ephys.ProbeInsertion.insert1(\n",
    "    dict(\n",
    "        **insertion_key,\n",
    "        probe=labview_metadata.serial_number,\n",
    "    ),\n",
    "    skip_duplicates=True,\n",
    ")\n",
    "ephys.ProbeInsertion()"
   ]
  },
  {
   "cell_type": "code",
   "execution_count": null,
   "metadata": {},
   "outputs": [],
   "source": [
    "# ephys.InsertionLocation.insert(dict())\n",
    "ephys.InsertionLocation()"
   ]
  },
  {
   "cell_type": "code",
   "execution_count": null,
   "metadata": {},
   "outputs": [],
   "source": [
    "ACQ_SOFTWARE = \"LabviewV1\"\n",
    "\n",
    "ephys.EphysFile.insert1(\n",
    "    dict(\n",
    "        **insertion_key,\n",
    "        session_path=session_path,\n",
    "        acq_software=ACQ_SOFTWARE,\n",
    "    ),\n",
    "    skip_duplicates=True,\n",
    ")\n",
    "ephys.EphysRecording.populate()\n",
    "ephys.EphysRecording()"
   ]
  },
  {
   "cell_type": "code",
   "execution_count": null,
   "metadata": {},
   "outputs": [],
   "source": [
    "probe.ElectrodeConfig()"
   ]
  },
  {
   "cell_type": "code",
   "execution_count": null,
   "metadata": {},
   "outputs": [],
   "source": [
    "probe.ElectrodeConfig.Electrode()"
   ]
  },
  {
   "cell_type": "code",
   "execution_count": null,
   "metadata": {},
   "outputs": [],
   "source": [
    "# Mostly fully computed (from neuropixel data I think)\n",
    "# ephys.LFP.populate()"
   ]
  },
  {
   "cell_type": "markdown",
   "metadata": {},
   "source": [
    "# Clustering"
   ]
  },
  {
   "cell_type": "code",
   "execution_count": null,
   "metadata": {},
   "outputs": [],
   "source": [
    "# lookup table\n",
    "ephys.ClusteringMethod()"
   ]
  },
  {
   "cell_type": "code",
   "execution_count": null,
   "metadata": {},
   "outputs": [],
   "source": [
    "settings = {\n",
    "    \"NchanTOT\": 385,\n",
    "    \"fs\": 30000,\n",
    "    \"nt\": 61,\n",
    "    \"Th\": 8,\n",
    "    \"spkTh\": 8,\n",
    "    \"Th_detect\": 9,\n",
    "    \"nwaves\": 6,\n",
    "    \"nskip\": 25,\n",
    "    \"nblocks\": 5,\n",
    "    \"binning_depth\": 5,\n",
    "    \"sig_interp\": 20,\n",
    "    \"probe_name\": \"neuropixPhase3B1_kilosortChanMap.mat\",\n",
    "}\n",
    "settings[\"nt0min\"] = int(20 * settings[\"nt\"] / 61)\n",
    "settings[\"NT\"] = 2 * settings[\"fs\"]\n",
    "settings[\"n_chan_bin\"] = settings[\"NchanTOT\"]\n",
    "\n",
    "\n",
    "# # lookup table, more commonly used (need a simple interface to insert into this occasionally)\n",
    "ephys.ClusteringParamSet.fill(\n",
    "    params=settings,\n",
    "    clustering_method=\"kilosort4\",\n",
    "    description=\"default kilosort4 params\",\n",
    "    skip_duplicates=True,\n",
    ")\n",
    "\n",
    "ephys.ClusteringParamSet().fetch1()"
   ]
  },
  {
   "cell_type": "code",
   "execution_count": null,
   "metadata": {},
   "outputs": [],
   "source": [
    "# lookup table\n",
    "ephys.ClusterQualityLabel()"
   ]
  },
  {
   "cell_type": "code",
   "execution_count": null,
   "metadata": {},
   "outputs": [],
   "source": [
    "CLUSTERING_OUTPUT_DIR = session_path / \"spikes_kilosort4\"\n",
    "\n",
    "task_source_rel = (ephys.EphysRecording & insertion_key).proj() * (\n",
    "    ephys.ClusteringParamSet() & {\"paramset_idx\": 1}\n",
    ").proj()\n",
    "task_source_key = task_source_rel.fetch1()\n",
    "\n",
    "task_source_key[\"clustering_output_dir\"] = CLUSTERING_OUTPUT_DIR\n",
    "task_source_key[\"task_mode\"] = \"load\"\n",
    "ephys.ClusteringTask.insert1(task_source_key, skip_duplicates=True)\n",
    "ephys.ClusteringTask()"
   ]
  },
  {
   "cell_type": "code",
   "execution_count": null,
   "metadata": {},
   "outputs": [],
   "source": [
    "ephys.Clustering.populate()\n",
    "ephys.Clustering()"
   ]
  },
  {
   "cell_type": "code",
   "execution_count": null,
   "metadata": {},
   "outputs": [],
   "source": [
    "# lookup table\n",
    "ephys.CurationType.insert1(dict(curation='maria'), skip_duplicates=True)\n",
    "ephys.CurationType()"
   ]
  },
  {
   "cell_type": "code",
   "execution_count": null,
   "metadata": {},
   "outputs": [],
   "source": [
    "from datetime import datetime\n",
    "\n",
    "curation_source_key = (ephys.Clustering() & task_source_key).proj().fetch1()\n",
    "\n",
    "CURATION_ID = 0\n",
    "CURATION_OUTPUT_DIR = task_source_key[\"clustering_output_dir\"] # this should be in a new directory due to curation overwriting the original data\n",
    "CURATION_TIME = datetime.now() # get from phy.log if there is curation\n",
    "CURATION = \"no curation\"\n",
    "CURATION_NOTE = \"\"\n",
    "\n",
    "ephys.Curation.insert1(\n",
    "    dict(\n",
    "        **curation_source_key,\n",
    "        curation_id=CURATION_ID,\n",
    "        curation_time=CURATION_TIME,\n",
    "        curation_output_dir=CURATION_OUTPUT_DIR,\n",
    "        curation=CURATION,\n",
    "        curation_note=CURATION_NOTE,\n",
    "    ),\n",
    "    skip_duplicates=True,\n",
    ")\n",
    "\n",
    "ephys.Curation()"
   ]
  },
  {
   "cell_type": "code",
   "execution_count": null,
   "metadata": {},
   "outputs": [],
   "source": [
    "ephys.CuratedClustering.populate()\n",
    "ephys.CuratedClustering()"
   ]
  },
  {
   "cell_type": "code",
   "execution_count": null,
   "metadata": {},
   "outputs": [],
   "source": [
    "ephys.CuratedClustering.Unit()"
   ]
  },
  {
   "cell_type": "markdown",
   "metadata": {},
   "source": [
    "# PostClustering"
   ]
  },
  {
   "cell_type": "code",
   "execution_count": null,
   "metadata": {
    "tags": []
   },
   "outputs": [],
   "source": [
    "# ephys.WaveformSet.populate()  # requires mean waveforms from ecephys_spike_sorting package (mean_waveforms.npy)\n",
    "# ephys.WaveformSet()"
   ]
  },
  {
   "cell_type": "code",
   "execution_count": null,
   "metadata": {},
   "outputs": [],
   "source": [
    "# ephys.QualityMetrics.populate()  # requires quality metrics from ecephys_spike_sorting package (metrics.csv)\n",
    "# ephys.QualityMetrics()"
   ]
  }
 ],
 "metadata": {
  "kernelspec": {
   "display_name": "Python 3 (ipykernel)",
   "language": "python",
   "name": "python3"
  },
  "language_info": {
   "codemirror_mode": {
    "name": "ipython",
    "version": 3
   },
   "file_extension": ".py",
   "mimetype": "text/x-python",
   "name": "python",
   "nbconvert_exporter": "python",
   "pygments_lexer": "ipython3",
   "version": "3.8.10"
  }
 },
 "nbformat": 4,
 "nbformat_minor": 4
}
