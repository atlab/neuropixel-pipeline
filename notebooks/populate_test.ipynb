{
 "cells": [
  {
   "cell_type": "code",
   "execution_count": null,
   "metadata": {},
   "outputs": [],
   "source": [
    "%cd ..\n",
    "# %pip install .\n",
    "\n",
    "%load_ext autoreload\n",
    "\n",
    "%autoreload 2"
   ]
  },
  {
   "cell_type": "code",
   "execution_count": null,
   "metadata": {},
   "outputs": [],
   "source": [
    "import datajoint as dj\n",
    "\n",
    "dj.config[\"database.host\"] = \"at-database.ad.bcm.edu\"\n",
    "\n",
    "dj.config[\"database.user\"] = \"cpapadop\"\n",
    "dj.config[\"database.password\"] = \"cpapadop#123\"\n",
    "\n",
    "from neuropixel_pipeline.readers.labview import LabviewNeuropixelMeta\n",
    "from neuropixel_pipeline.schemata import probe, ephys\n",
    "\n",
    "from neuropixel_pipeline.utils import TODO\n",
    "\n",
    "from pathlib import Path"
   ]
  },
  {
   "attachments": {},
   "cell_type": "markdown",
   "metadata": {},
   "source": [
    "## Probe"
   ]
  },
  {
   "cell_type": "code",
   "execution_count": null,
   "metadata": {},
   "outputs": [],
   "source": [
    "probe.ProbeType.fill_neuropixel_probes()\n",
    "probe.ProbeType()"
   ]
  },
  {
   "cell_type": "code",
   "execution_count": null,
   "metadata": {},
   "outputs": [],
   "source": [
    "probe.Probe.insert1(dict(\n",
    "    probe='19398116102',\n",
    "    probe_type='neuropixels 1.0 - 3B',\n",
    "    probe_comment=\"Used in maria's recordings\"\n",
    "), skip_duplicates=True)\n",
    "probe.Probe()"
   ]
  },
  {
   "attachments": {},
   "cell_type": "markdown",
   "metadata": {},
   "source": [
    "# PreClustering"
   ]
  },
  {
   "cell_type": "code",
   "execution_count": null,
   "metadata": {},
   "outputs": [],
   "source": [
    "# Need to get from this to accessible kilosort dir\n",
    "key = {'animal_id': 29187,\n",
    "      'session': 25,\n",
    "      'scan_idx': 1}\n",
    "\n",
    "experiment = dj.create_virtual_module('experiment', 'pipeline_experiment')\n",
    "\n",
    "session_rel = experiment.Session() & key\n",
    "session_rel.fetch1()"
   ]
  },
  {
   "cell_type": "code",
   "execution_count": null,
   "metadata": {},
   "outputs": [],
   "source": [
    "ephys.Session.add_session(key)\n",
    "ephys.Session()"
   ]
  },
  {
   "cell_type": "code",
   "execution_count": null,
   "metadata": {},
   "outputs": [],
   "source": [
    "# Uses contents only, lookup table\n",
    "ephys.AcquisitionSoftware()"
   ]
  },
  {
   "cell_type": "code",
   "execution_count": null,
   "metadata": {},
   "outputs": [],
   "source": [
    "probe.Probe()"
   ]
  },
  {
   "cell_type": "code",
   "execution_count": null,
   "metadata": {},
   "outputs": [],
   "source": [
    "session_dir = Path('/mnt/scratch09/Ephys/Mouse/2023-05-16_14-59-51/2023-05-16_15-00-16')\n",
    "\n",
    "labview_metadata = LabviewNeuropixelMeta.from_h5(session_dir)\n",
    "\n",
    "insertion_key = dict(session_id=1, insertion_number=0)\n",
    "\n",
    "ephys.ProbeInsertion.insert1(dict(\n",
    "    **insertion_key,\n",
    "    probe=labview_metadata.serial_number,\n",
    "), skip_duplicates=True)\n",
    "ephys.ProbeInsertion()"
   ]
  },
  {
   "cell_type": "code",
   "execution_count": null,
   "metadata": {},
   "outputs": [],
   "source": [
    "# manual_insert_data = TODO('manual insertion data')\n",
    "# ephys.InsertionLocation.insert(dict())\n",
    "ephys.InsertionLocation()"
   ]
  },
  {
   "cell_type": "code",
   "execution_count": null,
   "metadata": {},
   "outputs": [],
   "source": [
    "ephys.EphysFile.insert1(dict(\n",
    "    file_path=session_dir,\n",
    "    acq_software=\"LabviewV1\",\n",
    "), skip_duplicates=True)\n",
    "ephys.EphysRecording.populate()\n",
    "ephys.EphysRecording()"
   ]
  },
  {
   "cell_type": "code",
   "execution_count": null,
   "metadata": {},
   "outputs": [],
   "source": [
    "probe.ElectrodeConfig()"
   ]
  },
  {
   "cell_type": "code",
   "execution_count": null,
   "metadata": {},
   "outputs": [],
   "source": [
    "probe.ElectrodeConfig.Electrode()"
   ]
  },
  {
   "cell_type": "code",
   "execution_count": null,
   "metadata": {},
   "outputs": [],
   "source": [
    "# Mostly fully computed (from neuropixel data I think)\n",
    "# ephys.LFP.populate()"
   ]
  },
  {
   "attachments": {},
   "cell_type": "markdown",
   "metadata": {},
   "source": [
    "# Clustering"
   ]
  },
  {
   "cell_type": "code",
   "execution_count": null,
   "metadata": {},
   "outputs": [],
   "source": [
    "# lookup table\n",
    "ephys.ClusteringMethod()"
   ]
  },
  {
   "cell_type": "code",
   "execution_count": null,
   "metadata": {},
   "outputs": [],
   "source": [
    "settings = {\n",
    "    'NchanTOT': 385,\n",
    "    'fs': 30000,\n",
    "    'nt': 61,\n",
    "    'Th': 8,\n",
    "    'spkTh': 8,\n",
    "    'Th_detect': 9,\n",
    "    'nwaves': 6,\n",
    "    'nskip': 25,\n",
    "    'nblocks': 5,\n",
    "    'binning_depth': 5,\n",
    "    'sig_interp': 20,\n",
    "    'probe_name': 'neuropixPhase3B1_kilosortChanMap.mat',\n",
    "}\n",
    "settings['nt0min'] = int(20 * settings['nt']/61)\n",
    "settings['NT'] = 2 * settings['fs']\n",
    "settings['n_chan_bin'] = settings['NchanTOT']\n",
    "\n",
    "\n",
    "# # lookup table, more commonly used (need a simple interface to insert into this occasionally)\n",
    "ephys.ClusteringParamSet.fill(\n",
    "    params=settings,\n",
    "    clustering_method='kilosort4',\n",
    "    description=\"default kilosort4 params\",\n",
    "    skip_duplicates=True\n",
    ")\n",
    "\n",
    "ephys.ClusteringParamSet().fetch1()"
   ]
  },
  {
   "cell_type": "code",
   "execution_count": null,
   "metadata": {},
   "outputs": [],
   "source": [
    "# lookup table\n",
    "ephys.ClusterQualityLabel()"
   ]
  },
  {
   "cell_type": "code",
   "execution_count": null,
   "metadata": {},
   "outputs": [],
   "source": [
    "task_source_rel = (ephys.EphysRecording & insertion_key).proj() * (ephys.ClusteringParamSet() & {'paramset_idx': 1}).proj()\n",
    "task_source_key = task_source_rel.fetch1()\n",
    "\n",
    "task_source_key['clustering_output_dir'] = session_dir / 'spikes_kilosort4'\n",
    "task_source_key['task_mode'] = 'load'\n",
    "ephys.ClusteringTask.insert1(task_source_key, skip_duplicates=True)\n",
    "ephys.ClusteringTask()"
   ]
  },
  {
   "cell_type": "code",
   "execution_count": null,
   "metadata": {},
   "outputs": [],
   "source": [
    "ephys.Clustering.populate()\n",
    "ephys.Clustering()"
   ]
  },
  {
   "cell_type": "code",
   "execution_count": null,
   "metadata": {},
   "outputs": [],
   "source": [
    "# lookup table\n",
    "ephys.CurationType()"
   ]
  },
  {
   "cell_type": "code",
   "execution_count": null,
   "metadata": {},
   "outputs": [],
   "source": [
    "from datetime import datetime\n",
    "\n",
    "curation_source_key = (ephys.Clustering() & task_source_key).proj().fetch1()\n",
    "# print(curation_source_key)\n",
    "\n",
    "ephys.Curation.insert1(dict(\n",
    "    **curation_source_key,\n",
    "    curation_id=0,\n",
    "    curation_time=datetime.now(), # might not always be true\n",
    "    curation_output_dir=curation_source_key['file_path'],\n",
    "    quality_control=False,\n",
    "    curation='no curation',\n",
    "    curation_note='notes on the curation'\n",
    "), skip_duplicates=True)\n",
    "\n",
    "ephys.Curation()"
   ]
  },
  {
   "cell_type": "code",
   "execution_count": 22,
   "metadata": {},
   "outputs": [
    {
     "name": "stdout",
     "output_type": "stream",
     "text": [
      "Unexpected exception formatting exception. Falling back to standard exception\n"
     ]
    },
    {
     "name": "stderr",
     "output_type": "stream",
     "text": [
      "Traceback (most recent call last):\n",
      "  File \"/home/christos/.local/lib/python3.8/site-packages/IPython/core/interactiveshell.py\", line 3442, in run_code\n",
      "    exec(code_obj, self.user_global_ns, self.user_ns)\n",
      "  File \"/tmp/ipykernel_4855/2590846706.py\", line 1, in <module>\n",
      "    ephys.CuratedClustering.populate()\n",
      "  File \"/home/christos/.local/lib/python3.8/site-packages/datajoint/autopopulate.py\", line 153, in populate\n",
      "    make(dict(key))\n",
      "  File \"/home/christos/Repos/neuropixel-pipeline/neuropixel_pipeline/schemata/ephys.py\", line 487, in make\n",
      "    self.Unit.insert([{**key, **u} for u in units])\n",
      "  File \"/home/christos/.local/lib/python3.8/site-packages/datajoint/table.py\", line 384, in insert\n",
      "    self.connection.query(query, args=list(\n",
      "  File \"/home/christos/.local/lib/python3.8/site-packages/datajoint/connection.py\", line 215, in query\n",
      "    self._execute_query(cursor, query, args, cursor_class, suppress_warnings)\n",
      "  File \"/home/christos/.local/lib/python3.8/site-packages/datajoint/connection.py\", line 197, in _execute_query\n",
      "    raise translate_query_error(err, query) from None\n",
      "datajoint.errors.IntegrityError: Cannot add or update a child row: a foreign key constraint fails (`neuropixel_ephys`.`_curated_clustering__unit`, CONSTRAINT `_curated_clustering__unit_ibfk_2` FOREIGN KEY (`electrode_config_hash`, `probe_type`, `electrode`) REFERENCES `neuropixel_probe`.`#e)\n",
      "\n",
      "During handling of the above exception, another exception occurred:\n",
      "\n",
      "Traceback (most recent call last):\n",
      "  File \"/home/christos/.local/lib/python3.8/site-packages/IPython/core/interactiveshell.py\", line 2057, in showtraceback\n",
      "    stb = self.InteractiveTB.structured_traceback(\n",
      "  File \"/home/christos/.local/lib/python3.8/site-packages/IPython/core/ultratb.py\", line 1118, in structured_traceback\n",
      "    return FormattedTB.structured_traceback(\n",
      "  File \"/home/christos/.local/lib/python3.8/site-packages/IPython/core/ultratb.py\", line 1012, in structured_traceback\n",
      "    return VerboseTB.structured_traceback(\n",
      "  File \"/home/christos/.local/lib/python3.8/site-packages/IPython/core/ultratb.py\", line 865, in structured_traceback\n",
      "    formatted_exception = self.format_exception_as_a_whole(etype, evalue, etb, number_of_lines_of_context,\n",
      "  File \"/home/christos/.local/lib/python3.8/site-packages/IPython/core/ultratb.py\", line 818, in format_exception_as_a_whole\n",
      "    frames.append(self.format_record(r))\n",
      "  File \"/home/christos/.local/lib/python3.8/site-packages/IPython/core/ultratb.py\", line 736, in format_record\n",
      "    result += ''.join(_format_traceback_lines(frame_info.lines, Colors, self.has_colors, lvals))\n",
      "  File \"/home/christos/.local/lib/python3.8/site-packages/stack_data/utils.py\", line 144, in cached_property_wrapper\n",
      "    value = obj.__dict__[self.func.__name__] = self.func(obj)\n",
      "  File \"/home/christos/.local/lib/python3.8/site-packages/stack_data/core.py\", line 734, in lines\n",
      "    pieces = self.included_pieces\n",
      "  File \"/home/christos/.local/lib/python3.8/site-packages/stack_data/utils.py\", line 144, in cached_property_wrapper\n",
      "    value = obj.__dict__[self.func.__name__] = self.func(obj)\n",
      "  File \"/home/christos/.local/lib/python3.8/site-packages/stack_data/core.py\", line 677, in included_pieces\n",
      "    scope_pieces = self.scope_pieces\n",
      "  File \"/home/christos/.local/lib/python3.8/site-packages/stack_data/utils.py\", line 144, in cached_property_wrapper\n",
      "    value = obj.__dict__[self.func.__name__] = self.func(obj)\n",
      "  File \"/home/christos/.local/lib/python3.8/site-packages/stack_data/core.py\", line 614, in scope_pieces\n",
      "    scope_start, scope_end = self.source.line_range(self.scope)\n",
      "  File \"/home/christos/.local/lib/python3.8/site-packages/stack_data/core.py\", line 178, in line_range\n",
      "    return line_range(self.asttext(), node)\n",
      "  File \"/home/christos/.local/lib/python3.8/site-packages/executing/executing.py\", line 428, in asttext\n",
      "    self._asttext = ASTText(self.text, tree=self.tree, filename=self.filename)\n",
      "  File \"/home/christos/.local/lib/python3.8/site-packages/asttokens/asttokens.py\", line 307, in __init__\n",
      "    super(ASTText, self).__init__(source_text, filename)\n",
      "  File \"/home/christos/.local/lib/python3.8/site-packages/asttokens/asttokens.py\", line 44, in __init__\n",
      "    source_text = six.ensure_text(source_text)\n",
      "AttributeError: module 'six' has no attribute 'ensure_text'\n"
     ]
    }
   ],
   "source": [
    "ephys.CuratedClustering.populate()\n",
    "ephys.CuratedClustering()"
   ]
  },
  {
   "cell_type": "code",
   "execution_count": null,
   "metadata": {},
   "outputs": [],
   "source": [
    "ephys.CuratedClustering.Unit()"
   ]
  }
 ],
 "metadata": {
  "kernelspec": {
   "display_name": "neuropixel-pipeline-rIb4Wqpg",
   "language": "python",
   "name": "python3"
  },
  "language_info": {
   "codemirror_mode": {
    "name": "ipython",
    "version": 3
   },
   "file_extension": ".py",
   "mimetype": "text/x-python",
   "name": "python",
   "nbconvert_exporter": "python",
   "pygments_lexer": "ipython3",
   "version": "3.8.7"
  },
  "orig_nbformat": 4
 },
 "nbformat": 4,
 "nbformat_minor": 2
}
